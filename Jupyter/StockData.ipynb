{
 "cells": [
  {
   "cell_type": "markdown",
   "id": "c814a2b7-57fd-4bff-a9e7-6b0e8271fdcd",
   "metadata": {},
   "source": [
    "## Question 1? Question 1: Use yfinance to Extract Stock Data"
   ]
  },
  {
   "cell_type": "code",
   "execution_count": 2,
   "id": "49f07708-aa60-44f4-82e1-4048c645d599",
   "metadata": {
    "tags": []
   },
   "outputs": [],
   "source": [
    "import yfinance as yf\n",
    "import pandas as pd"
   ]
  },
  {
   "cell_type": "markdown",
   "id": "fc6ab3e3-03a8-415c-9dbb-c381ff073e01",
   "metadata": {},
   "source": [
    "#### Getting data from yfinance Ticker of tesla\n"
   ]
  },
  {
   "cell_type": "code",
   "execution_count": 9,
   "id": "2ceb7380-544f-48f1-ace3-11f89377aed0",
   "metadata": {
    "tags": []
   },
   "outputs": [
    {
     "data": {
      "text/html": [
       "<div>\n",
       "<style scoped>\n",
       "    .dataframe tbody tr th:only-of-type {\n",
       "        vertical-align: middle;\n",
       "    }\n",
       "\n",
       "    .dataframe tbody tr th {\n",
       "        vertical-align: top;\n",
       "    }\n",
       "\n",
       "    .dataframe thead th {\n",
       "        text-align: right;\n",
       "    }\n",
       "</style>\n",
       "<table border=\"1\" class=\"dataframe\">\n",
       "  <thead>\n",
       "    <tr style=\"text-align: right;\">\n",
       "      <th></th>\n",
       "      <th>Date</th>\n",
       "      <th>Open</th>\n",
       "      <th>High</th>\n",
       "      <th>Low</th>\n",
       "      <th>Close</th>\n",
       "      <th>Volume</th>\n",
       "      <th>Dividends</th>\n",
       "      <th>Stock Splits</th>\n",
       "    </tr>\n",
       "  </thead>\n",
       "  <tbody>\n",
       "    <tr>\n",
       "      <th>0</th>\n",
       "      <td>2010-06-29 00:00:00-04:00</td>\n",
       "      <td>1.266667</td>\n",
       "      <td>1.666667</td>\n",
       "      <td>1.169333</td>\n",
       "      <td>1.592667</td>\n",
       "      <td>281494500</td>\n",
       "      <td>0.0</td>\n",
       "      <td>0.0</td>\n",
       "    </tr>\n",
       "    <tr>\n",
       "      <th>1</th>\n",
       "      <td>2010-06-30 00:00:00-04:00</td>\n",
       "      <td>1.719333</td>\n",
       "      <td>2.028000</td>\n",
       "      <td>1.553333</td>\n",
       "      <td>1.588667</td>\n",
       "      <td>257806500</td>\n",
       "      <td>0.0</td>\n",
       "      <td>0.0</td>\n",
       "    </tr>\n",
       "    <tr>\n",
       "      <th>2</th>\n",
       "      <td>2010-07-01 00:00:00-04:00</td>\n",
       "      <td>1.666667</td>\n",
       "      <td>1.728000</td>\n",
       "      <td>1.351333</td>\n",
       "      <td>1.464000</td>\n",
       "      <td>123282000</td>\n",
       "      <td>0.0</td>\n",
       "      <td>0.0</td>\n",
       "    </tr>\n",
       "    <tr>\n",
       "      <th>3</th>\n",
       "      <td>2010-07-02 00:00:00-04:00</td>\n",
       "      <td>1.533333</td>\n",
       "      <td>1.540000</td>\n",
       "      <td>1.247333</td>\n",
       "      <td>1.280000</td>\n",
       "      <td>77097000</td>\n",
       "      <td>0.0</td>\n",
       "      <td>0.0</td>\n",
       "    </tr>\n",
       "    <tr>\n",
       "      <th>4</th>\n",
       "      <td>2010-07-06 00:00:00-04:00</td>\n",
       "      <td>1.333333</td>\n",
       "      <td>1.333333</td>\n",
       "      <td>1.055333</td>\n",
       "      <td>1.074000</td>\n",
       "      <td>103003500</td>\n",
       "      <td>0.0</td>\n",
       "      <td>0.0</td>\n",
       "    </tr>\n",
       "  </tbody>\n",
       "</table>\n",
       "</div>"
      ],
      "text/plain": [
       "                       Date      Open      High       Low     Close  \\\n",
       "0 2010-06-29 00:00:00-04:00  1.266667  1.666667  1.169333  1.592667   \n",
       "1 2010-06-30 00:00:00-04:00  1.719333  2.028000  1.553333  1.588667   \n",
       "2 2010-07-01 00:00:00-04:00  1.666667  1.728000  1.351333  1.464000   \n",
       "3 2010-07-02 00:00:00-04:00  1.533333  1.540000  1.247333  1.280000   \n",
       "4 2010-07-06 00:00:00-04:00  1.333333  1.333333  1.055333  1.074000   \n",
       "\n",
       "      Volume  Dividends  Stock Splits  \n",
       "0  281494500        0.0           0.0  \n",
       "1  257806500        0.0           0.0  \n",
       "2  123282000        0.0           0.0  \n",
       "3   77097000        0.0           0.0  \n",
       "4  103003500        0.0           0.0  "
      ]
     },
     "execution_count": 9,
     "metadata": {},
     "output_type": "execute_result"
    }
   ],
   "source": [
    "tesla = yf.Ticker(\"TSLA\")\n",
    "tesla_data = tesla.history(period=\"20y\")\n",
    "\n",
    "tesla_data.reset_index(inplace=True)\n",
    "tesla_data[\"Date\"] = pd.to_datetime(tesla_data[\"Date\"])\n",
    "tesla_data.head()"
   ]
  },
  {
   "cell_type": "markdown",
   "id": "0877afe8-3ca6-44de-a901-c0ff20a03461",
   "metadata": {
    "tags": []
   },
   "source": [
    "## Question 2: Use Webscraping to Extract Tesla Revenue Data"
   ]
  },
  {
   "cell_type": "code",
   "execution_count": 17,
   "id": "18ef0238-2bcb-40e4-8081-5846bfc1c1d1",
   "metadata": {
    "tags": []
   },
   "outputs": [],
   "source": [
    "import pandas as pd\n",
    "import requests\n",
    "from bs4 import BeautifulSoup"
   ]
  },
  {
   "cell_type": "code",
   "execution_count": 4,
   "id": "6103110d-e9f5-4758-a873-dd23c4d38048",
   "metadata": {
    "tags": []
   },
   "outputs": [],
   "source": [
    "import warnings\n",
    "warnings.filterwarnings(\"ignore\", category=FutureWarning)"
   ]
  },
  {
   "cell_type": "code",
   "execution_count": 19,
   "id": "fd63cbb5-1268-471e-a52d-2eeba3b58f7e",
   "metadata": {
    "tags": []
   },
   "outputs": [],
   "source": [
    "url = \"https://stockanalysis.com/stocks/tsla/revenue/\"\n",
    "data = requests.get(url).text\n",
    "soup = BeautifulSoup(data, \"html5lib\")\n",
    "tesla_revenue = pd.DataFrame(columns=[\"Period Ended\", \"Revenue\", \"Change\", \"Growth\"])"
   ]
  },
  {
   "cell_type": "code",
   "execution_count": 20,
   "id": "8e49e3c0-19a2-4590-85c0-189f30b942cd",
   "metadata": {
    "tags": []
   },
   "outputs": [],
   "source": [
    "for row in soup.find(\"tbody\").find_all(\"tr\"):\n",
    "    col = row.find_all(\"td\")\n",
    "    period = col[0].text\n",
    "    revenue = col[1].text\n",
    "    change = col[2].text\n",
    "    growth = col[3].text\n",
    "    new_row = pd.DataFrame({\"Period Ended\": [period], \"Revenue\": [revenue], \"Change\": [change], \"Growth\": [growth]})\n",
    "    tesla_revenue = pd.concat([tesla_revenue, new_row], ignore_index=True)"
   ]
  },
  {
   "cell_type": "code",
   "execution_count": 21,
   "id": "af8aa8e7-e3a4-4086-a621-f51140037436",
   "metadata": {
    "tags": []
   },
   "outputs": [
    {
     "data": {
      "text/html": [
       "<div>\n",
       "<style scoped>\n",
       "    .dataframe tbody tr th:only-of-type {\n",
       "        vertical-align: middle;\n",
       "    }\n",
       "\n",
       "    .dataframe tbody tr th {\n",
       "        vertical-align: top;\n",
       "    }\n",
       "\n",
       "    .dataframe thead th {\n",
       "        text-align: right;\n",
       "    }\n",
       "</style>\n",
       "<table border=\"1\" class=\"dataframe\">\n",
       "  <thead>\n",
       "    <tr style=\"text-align: right;\">\n",
       "      <th></th>\n",
       "      <th>Period Ended</th>\n",
       "      <th>Revenue</th>\n",
       "      <th>Change</th>\n",
       "      <th>Growth</th>\n",
       "    </tr>\n",
       "  </thead>\n",
       "  <tbody>\n",
       "    <tr>\n",
       "      <th>12</th>\n",
       "      <td>Dec 31, 2011</td>\n",
       "      <td>204.24M</td>\n",
       "      <td>87.50M</td>\n",
       "      <td>74.95%</td>\n",
       "    </tr>\n",
       "    <tr>\n",
       "      <th>13</th>\n",
       "      <td>Dec 31, 2010</td>\n",
       "      <td>116.74M</td>\n",
       "      <td>4.80M</td>\n",
       "      <td>4.29%</td>\n",
       "    </tr>\n",
       "    <tr>\n",
       "      <th>14</th>\n",
       "      <td>Dec 31, 2009</td>\n",
       "      <td>111.94M</td>\n",
       "      <td>97.20M</td>\n",
       "      <td>659.35%</td>\n",
       "    </tr>\n",
       "    <tr>\n",
       "      <th>15</th>\n",
       "      <td>Dec 31, 2008</td>\n",
       "      <td>14.74M</td>\n",
       "      <td>14.67M</td>\n",
       "      <td>20,094.52%</td>\n",
       "    </tr>\n",
       "    <tr>\n",
       "      <th>16</th>\n",
       "      <td>Dec 31, 2007</td>\n",
       "      <td>73.00K</td>\n",
       "      <td>-</td>\n",
       "      <td>-</td>\n",
       "    </tr>\n",
       "  </tbody>\n",
       "</table>\n",
       "</div>"
      ],
      "text/plain": [
       "    Period Ended  Revenue  Change      Growth\n",
       "12  Dec 31, 2011  204.24M  87.50M      74.95%\n",
       "13  Dec 31, 2010  116.74M   4.80M       4.29%\n",
       "14  Dec 31, 2009  111.94M  97.20M     659.35%\n",
       "15  Dec 31, 2008   14.74M  14.67M  20,094.52%\n",
       "16  Dec 31, 2007   73.00K       -           -"
      ]
     },
     "execution_count": 21,
     "metadata": {},
     "output_type": "execute_result"
    }
   ],
   "source": [
    "tesla_revenue.tail()"
   ]
  },
  {
   "cell_type": "markdown",
   "id": "5419b882-6715-4ae0-9dc0-159644a2957a",
   "metadata": {
    "tags": []
   },
   "source": [
    "## Question 3: Use yfinance to Extract Stock Data"
   ]
  },
  {
   "cell_type": "code",
   "execution_count": 6,
   "id": "c47e35e8-f001-45f2-8c7b-71c46bdbb762",
   "metadata": {
    "tags": []
   },
   "outputs": [],
   "source": [
    "import yfinance as yf\n",
    "import pandas as pd"
   ]
  },
  {
   "cell_type": "code",
   "execution_count": 7,
   "id": "c00fd36d-573e-4a6f-a5c4-5341b6d74324",
   "metadata": {
    "tags": []
   },
   "outputs": [
    {
     "data": {
      "text/html": [
       "<div>\n",
       "<style scoped>\n",
       "    .dataframe tbody tr th:only-of-type {\n",
       "        vertical-align: middle;\n",
       "    }\n",
       "\n",
       "    .dataframe tbody tr th {\n",
       "        vertical-align: top;\n",
       "    }\n",
       "\n",
       "    .dataframe thead th {\n",
       "        text-align: right;\n",
       "    }\n",
       "</style>\n",
       "<table border=\"1\" class=\"dataframe\">\n",
       "  <thead>\n",
       "    <tr style=\"text-align: right;\">\n",
       "      <th></th>\n",
       "      <th>Date</th>\n",
       "      <th>Open</th>\n",
       "      <th>High</th>\n",
       "      <th>Low</th>\n",
       "      <th>Close</th>\n",
       "      <th>Volume</th>\n",
       "      <th>Dividends</th>\n",
       "      <th>Stock Splits</th>\n",
       "    </tr>\n",
       "  </thead>\n",
       "  <tbody>\n",
       "    <tr>\n",
       "      <th>0</th>\n",
       "      <td>2004-02-17 00:00:00-05:00</td>\n",
       "      <td>1.449278</td>\n",
       "      <td>1.541016</td>\n",
       "      <td>1.449278</td>\n",
       "      <td>1.541016</td>\n",
       "      <td>2278400</td>\n",
       "      <td>0.0</td>\n",
       "      <td>0.0</td>\n",
       "    </tr>\n",
       "    <tr>\n",
       "      <th>1</th>\n",
       "      <td>2004-02-18 00:00:00-05:00</td>\n",
       "      <td>1.549432</td>\n",
       "      <td>1.565423</td>\n",
       "      <td>1.485468</td>\n",
       "      <td>1.519133</td>\n",
       "      <td>2777600</td>\n",
       "      <td>0.0</td>\n",
       "      <td>0.0</td>\n",
       "    </tr>\n",
       "    <tr>\n",
       "      <th>2</th>\n",
       "      <td>2004-02-19 00:00:00-05:00</td>\n",
       "      <td>1.552798</td>\n",
       "      <td>1.554481</td>\n",
       "      <td>1.515767</td>\n",
       "      <td>1.519975</td>\n",
       "      <td>2091200</td>\n",
       "      <td>0.0</td>\n",
       "      <td>0.0</td>\n",
       "    </tr>\n",
       "    <tr>\n",
       "      <th>3</th>\n",
       "      <td>2004-02-20 00:00:00-05:00</td>\n",
       "      <td>1.514925</td>\n",
       "      <td>1.519975</td>\n",
       "      <td>1.487993</td>\n",
       "      <td>1.514925</td>\n",
       "      <td>1675200</td>\n",
       "      <td>0.0</td>\n",
       "      <td>0.0</td>\n",
       "    </tr>\n",
       "    <tr>\n",
       "      <th>4</th>\n",
       "      <td>2004-02-23 00:00:00-05:00</td>\n",
       "      <td>1.514925</td>\n",
       "      <td>1.514925</td>\n",
       "      <td>1.489677</td>\n",
       "      <td>1.498934</td>\n",
       "      <td>2349600</td>\n",
       "      <td>0.0</td>\n",
       "      <td>0.0</td>\n",
       "    </tr>\n",
       "  </tbody>\n",
       "</table>\n",
       "</div>"
      ],
      "text/plain": [
       "                       Date      Open      High       Low     Close   Volume  \\\n",
       "0 2004-02-17 00:00:00-05:00  1.449278  1.541016  1.449278  1.541016  2278400   \n",
       "1 2004-02-18 00:00:00-05:00  1.549432  1.565423  1.485468  1.519133  2777600   \n",
       "2 2004-02-19 00:00:00-05:00  1.552798  1.554481  1.515767  1.519975  2091200   \n",
       "3 2004-02-20 00:00:00-05:00  1.514925  1.519975  1.487993  1.514925  1675200   \n",
       "4 2004-02-23 00:00:00-05:00  1.514925  1.514925  1.489677  1.498934  2349600   \n",
       "\n",
       "   Dividends  Stock Splits  \n",
       "0        0.0           0.0  \n",
       "1        0.0           0.0  \n",
       "2        0.0           0.0  \n",
       "3        0.0           0.0  \n",
       "4        0.0           0.0  "
      ]
     },
     "execution_count": 7,
     "metadata": {},
     "output_type": "execute_result"
    }
   ],
   "source": [
    "gme = yf.Ticker(\"GME\")\n",
    "gme_data = gme.history(period=\"20y\")\n",
    "\n",
    "gme_data.reset_index(inplace=True)\n",
    "gme_data.head()"
   ]
  },
  {
   "cell_type": "markdown",
   "id": "9b784a6a-7dbf-4f6c-9814-14ca2421a9a7",
   "metadata": {
    "tags": []
   },
   "source": [
    "## Question 4: Use Webscraping to Extract GME Revenue Data"
   ]
  },
  {
   "cell_type": "code",
   "execution_count": 9,
   "id": "b2b54496-f800-468c-ad73-c21b95a1dc39",
   "metadata": {
    "tags": []
   },
   "outputs": [],
   "source": [
    "import pandas as pd\n",
    "import requests\n",
    "from bs4 import BeautifulSoup"
   ]
  },
  {
   "cell_type": "code",
   "execution_count": 10,
   "id": "ad0cef87-f7c3-4c27-9811-79932ceb1628",
   "metadata": {
    "tags": []
   },
   "outputs": [],
   "source": [
    "url = \"https://stockanalysis.com/stocks/gme/revenue/\"\n",
    "data = requests.get(url).text\n",
    "soup = BeautifulSoup(data, \"html5lib\")\n",
    "gme_revenue = pd.DataFrame(columns=[\"Period Ended\", \"Revenue\", \"Change\", \"Growth\"])"
   ]
  },
  {
   "cell_type": "code",
   "execution_count": 13,
   "id": "810093cb-23e6-46e9-816d-6cc933e77da0",
   "metadata": {
    "tags": []
   },
   "outputs": [],
   "source": [
    "for row in soup.find(\"tbody\").find_all(\"tr\"):\n",
    "    col = row.find_all(\"td\")\n",
    "    period = col[0].text\n",
    "    revenue = col[1].text\n",
    "    change = col[2].text\n",
    "    growth = col[3].text\n",
    "    new_row = pd.DataFrame({\"Period Ended\": [period], \"Revenue\": [revenue], \"Change\": [change], \"Growth\": [growth]})\n",
    "    gme_revenue = pd.concat([gme_revenue, new_row], ignore_index=True)"
   ]
  },
  {
   "cell_type": "code",
   "execution_count": 14,
   "id": "1342f78e-a680-4500-a40f-9226bcc8a2de",
   "metadata": {
    "tags": []
   },
   "outputs": [
    {
     "data": {
      "text/html": [
       "<div>\n",
       "<style scoped>\n",
       "    .dataframe tbody tr th:only-of-type {\n",
       "        vertical-align: middle;\n",
       "    }\n",
       "\n",
       "    .dataframe tbody tr th {\n",
       "        vertical-align: top;\n",
       "    }\n",
       "\n",
       "    .dataframe thead th {\n",
       "        text-align: right;\n",
       "    }\n",
       "</style>\n",
       "<table border=\"1\" class=\"dataframe\">\n",
       "  <thead>\n",
       "    <tr style=\"text-align: right;\">\n",
       "      <th></th>\n",
       "      <th>Period Ended</th>\n",
       "      <th>Revenue</th>\n",
       "      <th>Change</th>\n",
       "      <th>Growth</th>\n",
       "    </tr>\n",
       "  </thead>\n",
       "  <tbody>\n",
       "    <tr>\n",
       "      <th>20</th>\n",
       "      <td>Jan 31, 2003</td>\n",
       "      <td>1.35B</td>\n",
       "      <td>231.65M</td>\n",
       "      <td>20.66%</td>\n",
       "    </tr>\n",
       "    <tr>\n",
       "      <th>21</th>\n",
       "      <td>Jan 31, 2002</td>\n",
       "      <td>1.12B</td>\n",
       "      <td>364.44M</td>\n",
       "      <td>48.16%</td>\n",
       "    </tr>\n",
       "    <tr>\n",
       "      <th>22</th>\n",
       "      <td>Jan 31, 2001</td>\n",
       "      <td>756.70M</td>\n",
       "      <td>203.56M</td>\n",
       "      <td>36.80%</td>\n",
       "    </tr>\n",
       "    <tr>\n",
       "      <th>23</th>\n",
       "      <td>Jan 31, 2000</td>\n",
       "      <td>553.14M</td>\n",
       "      <td>169.78M</td>\n",
       "      <td>44.29%</td>\n",
       "    </tr>\n",
       "    <tr>\n",
       "      <th>24</th>\n",
       "      <td>Jan 31, 1998</td>\n",
       "      <td>383.36M</td>\n",
       "      <td>-</td>\n",
       "      <td>-</td>\n",
       "    </tr>\n",
       "  </tbody>\n",
       "</table>\n",
       "</div>"
      ],
      "text/plain": [
       "    Period Ended  Revenue   Change  Growth\n",
       "20  Jan 31, 2003    1.35B  231.65M  20.66%\n",
       "21  Jan 31, 2002    1.12B  364.44M  48.16%\n",
       "22  Jan 31, 2001  756.70M  203.56M  36.80%\n",
       "23  Jan 31, 2000  553.14M  169.78M  44.29%\n",
       "24  Jan 31, 1998  383.36M        -       -"
      ]
     },
     "execution_count": 14,
     "metadata": {},
     "output_type": "execute_result"
    }
   ],
   "source": [
    "gme_revenue.tail()"
   ]
  },
  {
   "cell_type": "markdown",
   "id": "20663f48-e147-4a98-81e1-547e602500f4",
   "metadata": {},
   "source": [
    "## Question 5: Plot Tesla Stock Graph"
   ]
  },
  {
   "cell_type": "code",
   "execution_count": 5,
   "id": "fffdd794-7187-46f3-9c75-9767b9994ff0",
   "metadata": {
    "tags": []
   },
   "outputs": [
    {
     "data": {
      "text/plain": [
       "<Axes: xlabel='Date'>"
      ]
     },
     "execution_count": 5,
     "metadata": {},
     "output_type": "execute_result"
    },
    {
     "data": {
      "image/png": "[encoded data removed]",
      "text/plain": [
       "<Figure size 640x480 with 1 Axes>"
      ]
     },
     "metadata": {},
     "output_type": "display_data"
    }
   ],
   "source": [
    "tesla_data.plot(x=\"Date\", y=\"Open\")"
   ]
  },
  {
   "cell_type": "markdown",
   "id": "74e40d3d-cd28-4697-8772-d2f421d786f4",
   "metadata": {},
   "source": [
    "## Question 6: Plot GameStop Stock Graph"
   ]
  },
  {
   "cell_type": "code",
   "execution_count": 8,
   "id": "f3de8982-9321-4f93-90fd-9a0356763172",
   "metadata": {
    "tags": []
   },
   "outputs": [
    {
     "data": {
      "text/plain": [
       "<Axes: xlabel='Date'>"
      ]
     },
     "execution_count": 8,
     "metadata": {},
     "output_type": "execute_result"
    },
    {
     "data": {
      "image/png": "[encoded data removed]",
      "text/plain": [
       "<Figure size 640x480 with 1 Axes>"
      ]
     },
     "metadata": {},
     "output_type": "display_data"
    }
   ],
   "source": [
    "gme_data.plot(x=\"Date\", y=\"Open\")"
   ]
  }
 ],
 "metadata": {
  "kernelspec": {
   "display_name": "Python 3 (ipykernel)",
   "language": "python",
   "name": "python3"
  },
  "language_info": {
   "codemirror_mode": {
    "name": "ipython",
    "version": 3
   },
   "file_extension": ".py",
   "mimetype": "text/x-python",
   "name": "python",
   "nbconvert_exporter": "python",
   "pygments_lexer": "ipython3",
   "version": "3.11.5"
  }
 },
 "nbformat": 4,
 "nbformat_minor": 5
}
